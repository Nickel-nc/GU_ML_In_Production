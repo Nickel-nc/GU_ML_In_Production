{
 "cells": [
  {
   "cell_type": "markdown",
   "metadata": {},
   "source": [
    "1. Напишите функцию, которая возвращает сумму двух вещественных аргументов a и b, а к ней декоратор, который делает так, чтобы возвращаемое значение функцией было по модулю 5.\n",
    "2. Попробуйте описать своими словами основные отличия SMOTE от ADASYN, ознакомившись с документацией к ним."
   ]
  },
  {
   "cell_type": "code",
   "execution_count": 121,
   "metadata": {},
   "outputs": [
    {
     "name": "stdout",
     "output_type": "stream",
     "text": [
      "0\n",
      "0\n",
      "0\n",
      "0\n",
      "0\n",
      "0\n",
      "0\n",
      "4\n",
      "1\n",
      "3\n"
     ]
    }
   ],
   "source": [
    "# 1 #\n",
    "\n",
    "import numpy as np\n",
    "from itertools import zip_longest\n",
    "\n",
    "def mod5(func):\n",
    "    def wrapped(*args):\n",
    "        return func(*args) % 5\n",
    "    return wrapped\n",
    "        \n",
    "@mod5\n",
    "def decorated(a_b): # tupled\n",
    "    return sum(a_b)\n",
    "\n",
    "a = np.arange(0, 20, 2)\n",
    "b = np.arange(0, 20, 3)\n",
    "\n",
    "a_b = zip_longest(a, b, fillvalue=0) # выравнивает  длины входов\n",
    "\n",
    "for i in a_b:\n",
    "    print(decorated(i))"
   ]
  },
  {
   "cell_type": "code",
   "execution_count": 1,
   "metadata": {},
   "outputs": [],
   "source": [
    "# 2 # \n",
    "\n",
    "\"\"\"\n",
    "SMOTE - Synthetic Minority Over-sampling\n",
    "\n",
    "Использует добавление минорных классов, основываясь на методе k-ближайших соседей:\n",
    "Алгоритм находит n-ближайших соседей в минорном классе в виде отдельных узлов.\n",
    "Значения для оверсемплинга лежат на отрезках, соединяющих узлы в случайно сгенерированных точках.\n",
    "\n",
    "\n",
    "ADASYN - Adaptive Synthetic Sampling Method for Imbalanced Data\n",
    "\n",
    "Является улучшенной версией SMOTE. Добавляет шумы к кореллированым значениям в виде случайных коэффициентов, \n",
    "в результате чего разброс синтетических семплов более реалистичен.\n",
    "\"\"\"\n",
    "pass"
   ]
  },
  {
   "cell_type": "code",
   "execution_count": null,
   "metadata": {},
   "outputs": [],
   "source": []
  }
 ],
 "metadata": {
  "kernelspec": {
   "display_name": "Python 3",
   "language": "python",
   "name": "python3"
  },
  "language_info": {
   "codemirror_mode": {
    "name": "ipython",
    "version": 3
   },
   "file_extension": ".py",
   "mimetype": "text/x-python",
   "name": "python",
   "nbconvert_exporter": "python",
   "pygments_lexer": "ipython3",
   "version": "3.7.1"
  }
 },
 "nbformat": 4,
 "nbformat_minor": 4
}
